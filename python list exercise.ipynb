{
 "cells": [
  {
   "cell_type": "code",
   "execution_count": null,
   "metadata": {},
   "outputs": [],
   "source": [
    "# Create a list of friends' names\n",
    "names = [\"Asad\", \"Tayyab\", \"Shuar\", \"Ahmed\"]\n",
    "\n",
    "# Print each name\n",
    "for name in names:\n",
    "    print(name)\n"
   ]
  },
  {
   "cell_type": "code",
   "execution_count": null,
   "metadata": {},
   "outputs": [],
   "source": [
    "# Create a list of friends' names\n",
    "names = [\"Asad\", \"Shuar\", \"Tayyab\", \"Ahmed\"]\n",
    "\n",
    "# Print a personalized message for each friend\n",
    "for name in names:\n",
    "    print(f\"Hello, {name}! Asslam o Alaikum\")\n"
   ]
  },
  {
   "cell_type": "code",
   "execution_count": null,
   "metadata": {},
   "outputs": [],
   "source": [
    "# Create a list of favorite transportation modes\n",
    "transportation_modes = [\"motorcycle\", \"car\", \"bicycle\", \"scooter\"]\n",
    "\n",
    "# Print statements about each mode\n",
    "for mode in transportation_modes:\n",
    "    print(f\"I would love to own a toyota {mode}.\")\n"
   ]
  },
  {
   "cell_type": "code",
   "execution_count": null,
   "metadata": {},
   "outputs": [],
   "source": [
    "# Create a list of dinner guests\n",
    "dinner_guests = [\"tayyab\",\"ahmed\",\"ali\",\"Shuar\"]\n",
    "\n",
    "# Print personalized invitations\n",
    "for guest in dinner_guests:\n",
    "    print(f\"Dear {guest}, free food for you :),at 8PM,wednesday!\")\n"
   ]
  },
  {
   "cell_type": "code",
   "execution_count": null,
   "metadata": {},
   "outputs": [],
   "source": [
    "# Original guest list\n",
    "guest_list = [\"tayyab\",\"shaur\",\"asad\",\"ahmed\"]\n",
    "\n",
    "# Print initial invitations\n",
    "for guest in guest_list:\n",
    "    print(f\"Hello {guest}, how are you all doing\")\n",
    "\n",
    "# Remove the guest who can't make it\n",
    "unavailable_guest = guest_list.pop(0)\n",
    "print(f\"\\nUnfortunately, {unavailable_guest} cannot come to the dinner.\")\n",
    "\n",
    "# Replace with a new invitee\n",
    "new_invitee = \"AHMER\"\n",
    "guest_list.append(new_invitee)\n",
    "\n",
    "# Print updated invitations\n",
    "for guest in guest_list:\n",
    "    print(f\"Hello {guest},hope you all diong great!\")\n"
   ]
  },
  {
   "cell_type": "code",
   "execution_count": null,
   "metadata": {},
   "outputs": [],
   "source": [
    "# Original guest list\n",
    "guest_list = [\"TAYYAB\",\"AHMER\",\"shuar\",\"asad\",\"ateeq\"]\n",
    "# Print initial invitations\n",
    "for guest in guest_list:\n",
    "    print(f\"Hello {guest}, hope you all doing great guys\")\n",
    "\n",
    "# Inform about the bigger table\n",
    "print(\"\\nGood news! We found a bigger table for our dinner.\")\n",
    "print(\"\\n\")\n",
    "\n",
    "# Add a new guest to the beginning\n",
    "new_guest_beginning = 'haseeb'\n",
    "guest_list.insert(0, new_guest_beginning)\n",
    "\n",
    "# Add a new guest to the middle\n",
    "new_guest_m = 'Noman'\n",
    "guest_list.insert(len(guest_list) // 2, new_guest_m)\n",
    "\n",
    "# Add a new guest to the end\n",
    "new_guest_e = 'cake'\n",
    "guest_list.append(new_guest_e)\n",
    "\n",
    "# Print updated invitations\n",
    "for guest in guest_list:\n",
    "    print(f\"Hello {guest}, let's have an conversation over dinner!\")\n"
   ]
  },
  {
   "cell_type": "code",
   "execution_count": null,
   "metadata": {},
   "outputs": [],
   "source": [
    "# Original guest list\n",
    "guest_list = ['tayyab', 'shuar', 'asad']\n",
    "\n",
    "# Print initial invitations\n",
    "for guest in guest_list:\n",
    "    print(f\"Hello {guest}, hope you all doing great.\")\n",
    "\n",
    "# Inform that only two people can be invited\n",
    "print(\"\\nUnfortunately, due to low space, I can invite only two people for dinner.\")\n",
    "\n",
    "# Remove guests until only two names remain\n",
    "while len(guest_list) > 2:\n",
    "    removed_guest = guest_list.pop()\n",
    "    print(f\"Sorry, {removed_guest}, I can't invite you to dinner.\")\n",
    "\n",
    "# Add new invitees\n",
    "new_invitees = ['Tayyab', 'Shuar', 'Ateeq', 'Ahmer', 'Asad']\n",
    "guest_list.extend(new_invitees)\n",
    "\n",
    "# Print updated invitations\n",
    "for remaining_guest in guest_list:\n",
    "    print(f\"{remaining_guest}, you're still invited to dinner!\")\n",
    "\n",
    "# Empty the list\n",
    "del guest_list[:]\n",
    "\n",
    "# Print the empty list\n",
    "print(\"\\nAfter removing all guests, the list is now empty:\", guest_list)\n"
   ]
  },
  {
   "cell_type": "code",
   "execution_count": null,
   "metadata": {},
   "outputs": [],
   "source": [
    "# Create a list of places to visit\n",
    "places_to_visit = [\"China\",\"Japan\",\"America\",\"england\",\"thialand\"]\n",
    "\n",
    "# Print the original list\n",
    "print(\"Original order:\", places_to_visit)\n",
    "\n",
    "# Print the list in alphabetical order (sorted)\n",
    "print(\"Alphabetical order:\", sorted(places_to_visit))\n",
    "\n",
    "# Print the list in reverse-alphabetical order (sorted)\n",
    "print(\"Reverse alphabetical order:\", sorted(places_to_visit, reverse=True))\n",
    "\n",
    "# Change the order of the list using reverse()\n",
    "places_to_visit.reverse()\n",
    "print(\"Reversed order:\", places_to_visit)\n",
    "\n",
    "# Change the order back to the original using reverse() again\n",
    "places_to_visit.reverse()\n",
    "print(\"Back to original order:\", places_to_visit)\n",
    "\n",
    "# Sort the list in alphabetical order using sort()\n",
    "places_to_visit.sort()\n",
    "print(\"Sorted order:\", places_to_visit)\n"
   ]
  },
  {
   "cell_type": "code",
   "execution_count": null,
   "metadata": {},
   "outputs": [],
   "source": [
    "# Create a list of country names\n",
    "countries = [\"Afghanistan\", \"Albania\", \"Algeria\", \"Andorra\", \"Angola\"]\n",
    "\n",
    "# Print the original list\n",
    "print(\"Original order:\", countries)\n",
    "\n",
    "# Access list elements\n",
    "print(\"First country:\", countries[0])\n",
    "print(\"Last country:\", countries[-1])\n",
    "\n",
    "# Slicing the list\n",
    "print(\"Sliced countries:\", countries[1:4])\n",
    "\n",
    "# Add a new country to the end\n",
    "countries.append(\"Argentina\")\n",
    "print(\"Updated list with Argentina:\", countries)\n",
    "\n",
    "# Remove a country\n",
    "removed_country = countries.pop(2)\n",
    "print(f\"Removed {removed_country}, updated list:\", countries)\n",
    "\n",
    "# Sort the list alphabetically\n",
    "countries.sort()\n",
    "print(\"Sorted list:\", countries)\n",
    "\n",
    "# Reverse the list\n",
    "countries.reverse()\n",
    "print(\"Reversed list:\", countries)\n",
    "\n",
    "# Empty the list\n",
    "countries.clear()\n",
    "print(\"Empty list:\", countries)\n"
   ]
  },
  {
   "cell_type": "code",
   "execution_count": null,
   "metadata": {},
   "outputs": [],
   "source": [
    "# Example list\n",
    "my_list = [10, 20, 30, 40, 50]\n",
    "print(my_list[10])\n"
   ]
  }
 ],
 "metadata": {
  "kernelspec": {
   "display_name": "Python 3",
   "language": "python",
   "name": "python3"
  },
  "language_info": {
   "codemirror_mode": {
    "name": "ipython",
    "version": 3
   },
   "file_extension": ".py",
   "mimetype": "text/x-python",
   "name": "python",
   "nbconvert_exporter": "python",
   "pygments_lexer": "ipython3",
   "version": "3.12.4"
  }
 },
 "nbformat": 4,
 "nbformat_minor": 2
}
